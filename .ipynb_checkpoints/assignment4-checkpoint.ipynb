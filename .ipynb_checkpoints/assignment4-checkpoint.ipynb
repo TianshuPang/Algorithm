{
 "cells": [
  {
   "cell_type": "markdown",
   "metadata": {},
   "source": [
    "# CSCI 5454: Assignment 4\n",
    "\n",
    "Your Name: __ Xu Han __\n",
    "\n",
    "\n",
    "Collaborated With:\n"
   ]
  },
  {
   "cell_type": "markdown",
   "metadata": {},
   "source": [
    "## Problem 1 (10 points)\n",
    "\n",
    "Consider the program below:\n",
    "\n",
    "`def findMinimum(a):\n",
    "     n = len(a)\n",
    "     minSoFar =  math.inf\n",
    "     for i in range(n):\n",
    "         if (a[i] < minSoFar):\n",
    "            minSoFar = a[i] # <-- X\n",
    "     return minSoFar`\n",
    "     \n",
    " If $a$ is a random array of numbers $1, \\ldots, n$ such that any of the $n!$ permutations is equally probable. What is the expected number of times the variable `minSoFar` is updated in the for loop (i.e, the statement marked \"X\" is executed)? Your answer must be a function of $n$, asymptotic notation is fine and you must show the steps/justification that you used to arrive at your answer clearly and concisely."
   ]
  },
  {
   "cell_type": "markdown",
   "metadata": {},
   "source": [
    "## Solution (Expected length: 5 lines)\n",
    "\n",
    "Let $T(n)$ be the expected number of updates. If the last element is not the smallest, $T(n)=T(n-1)$. If the last element is the smallest, $T(n)=T(n-1)+1$. $Pr$(the last element is the smallest)$=\\frac{(n-1)!}{n!}=\\frac{1}{n}$, so $Pr$(the last element is not the smallest)$=1-\\frac{1}{n}=\\frac{n-1}{n}$  \n",
    "So, $T(n)=\\frac{n-1}{n}T(n-1)+\\frac{1}{n}[T(n-1)+1]=T(n-1)+\\frac{1}{n}$,  \n",
    "We know $T(1)=1$,Therefore, $T(n)=T(n-1)+\\frac{1}{n}=T(n-2)+\\frac{1}{n-1}+\\frac{1}{n}=\\cdots=1+\\frac{1}{2}+\\frac{1}{3}+\\cdots+\\frac{1}{n}=H_n=\\Theta(\\ln n)$\n"
   ]
  },
  {
   "cell_type": "markdown",
   "metadata": {},
   "source": [
    "## Problem 2A (10 points)\n",
    "\n",
    "We will now consider a scheme to randomly permute an array of size $n$. You are allowed to generate a single random bit at a time using the `random.getrandbits(1)` function. Write a function `shuffleArray` that will shuffle an input array of $n$ integers so that any permutation is equally probable.\n",
    "\n",
    "- __Input:__ original list.\n",
    "- __Return:__ shuffled list.\n",
    "\n",
    "You __should not__ modify the original array.  You are __forbidden__ to use any random number generator other than `random.getrandbits(1)`.\n"
   ]
  },
  {
   "cell_type": "code",
   "execution_count": 3,
   "metadata": {},
   "outputs": [],
   "source": [
    "from random import getrandbits\n",
    "\n",
    "def shuffleArray(a):\n",
    "    ## BEGIN SOLUTION\n",
    "    # follow the method of quick sort, instead of using a pivot to insert array elements, use getrandbits to decide\n",
    "    if(len(a)<=1):\n",
    "        return a\n",
    "    \n",
    "    left=[]\n",
    "    right=[]\n",
    "    for i in range(len(a)):\n",
    "        if(getrandbits(1)):\n",
    "            left.append(a[i])\n",
    "        else:\n",
    "            right.append(a[i])\n",
    "    \n",
    "    a_shuffled = shuffleArray(left)+shuffleArray(right)\n",
    "    return a_shuffled\n",
    "    ## END SOLUTION"
   ]
  },
  {
   "cell_type": "code",
   "execution_count": 5,
   "metadata": {},
   "outputs": [
    {
     "name": "stdout",
     "output_type": "stream",
     "text": [
      "Chi-Squared value = 25.712\n",
      "Chi-Squared value = 22.595\n",
      "Chi-Squared value = 11.046\n"
     ]
    },
    {
     "data": {
      "image/png": "[encoded data removed]",
      "text/plain": [
       "<matplotlib.figure.Figure at 0x11c164b00>"
      ]
     },
     "metadata": {},
     "output_type": "display_data"
    },
    {
     "data": {
      "image/png": "[encoded data removed]",
      "text/plain": [
       "<matplotlib.figure.Figure at 0x11c13b3c8>"
      ]
     },
     "metadata": {},
     "output_type": "display_data"
    },
    {
     "data": {
      "image/png": "[encoded data removed]",
      "text/plain": [
       "<matplotlib.figure.Figure at 0x11c44b2b0>"
      ]
     },
     "metadata": {},
     "output_type": "display_data"
    }
   ],
   "source": [
    "%matplotlib inline\n",
    "## Begin statistical tests\n",
    "import matplotlib.pyplot as plt\n",
    "\n",
    "def placementTest(n, nTrials, elt):\n",
    "    a = list(range(n))\n",
    "    where = []\n",
    "    for i in range(nTrials):\n",
    "        b = shuffleArray(a)\n",
    "        # find where element n/2 ended up\n",
    "        j = b.index(elt)\n",
    "        where.append(j)\n",
    "    plt.figure(\"Position of elt. %d\"%(elt))\n",
    "    plt.hist(where, bins=80)\n",
    "    plt.xlabel('Position of elt. %d'%(elt))\n",
    "    plt.ylabel('Frequency')\n",
    "    # TODO: Implement a xi-squared test \n",
    "    # for now let us eyeball the histograms.\n",
    "    # the histograms must be near uniform. \n",
    "    frequency = {}\n",
    "    for index in where:\n",
    "        frequency[index] = frequency.get(index, 0) + 1\n",
    "    exp_frequency = nTrials/n\n",
    "    chi_squared = 0\n",
    "    for index in frequency:\n",
    "        chi_squared += (frequency[index] - exp_frequency)**2/exp_frequency\n",
    "    print(\"Chi-Squared value =\", round(chi_squared,3))\n",
    "\n",
    "placementTest(30, 10000, 10)\n",
    "placementTest(25, 10000, 7)\n",
    "placementTest(18, 10000, 0)\n",
    "       \n",
    "##  End statistical tests"
   ]
  },
  {
   "cell_type": "markdown",
   "metadata": {},
   "source": [
    "## Problem 2B  (5 Points)\n",
    "\n",
    "Analyze the expected running time of your algorithm in 2(A) and expected number of random bits used?"
   ]
  },
  {
   "cell_type": "markdown",
   "metadata": {},
   "source": [
    "## Answer (Expected Size: 5 lines).\n",
    "\n",
    "__Expected running time__ :\n",
    "\n",
    "Let $T(n)$ be the expected running time when the array's length is n. On average we have $\\frac{n}{2}$ elements randomly assigned to left and rest $\\frac{n}{2}$ to right, so we have $2T(\\frac{n}{2})$. What's more, the algorithm runs through n elements ($\\Theta(n)$). in this case, we have $T(n)=2T(\\frac{n}{2})+\\Theta(n)$, so, $T(n)=\\Theta(nlog(n))$ (master method)\n",
    "\n",
    "\n",
    "__Expected number of random bits used __:\n",
    "\n",
    "\n",
    "Let $S(n)$ be the expected number of random bits used when the array's length is n. On average we have $\\frac{n}{2}$ elements randomly assigned to left and rest $\\frac{n}{2}$ to right, so we have $2S(\\frac{n}{2})$ when shuffle left and right. What's more, the algorithm runs through n elements ($\\Theta(n)$). in this case, we have $S(n)=2S(\\frac{n}{2})+\\Theta(n)$, so, $S(n)=\\Theta(nlog(n))$ (master method)\n"
   ]
  },
  {
   "cell_type": "markdown",
   "metadata": {},
   "source": [
    "## Problem 3  (20 points)\n",
    "\n",
    "We insert keys from $1, \\ldots, n$ in a random order into a binary search tree. Throughout this problem,\n",
    "node $i$ refers to a node with key $i$. The _priority_ of a node is the rank order in which it is inserted\n",
    "into the tree with the root having priority $1$ and the very last node to be inserted having priority $n$.\n",
    "\n",
    "In class, we showed that a node $i$ is the ancestor of a node $j$ if and only if $i$ has the lowest priority amongst all nodes $\\{ i, \\ldots, j\\}$ (or $\\{ j, \\ldots, i\\}$ if $j < i$).\n",
    "\n",
    "(A) State and prove a condition for node $k$ to be a leaf in the tree.  For the purposes of this problem, a node is a leaf if both its children are NIL. \n",
    "\n",
    "(B) What is the probability that node $k$ is a leaf? __Hint:__ Your answer should analyze nodes $1, n$ separately from nodes $2, \\ldots, n-1$.\n",
    "\n",
    "(C) Calculate the expected number of leaf nodes. Your answer should be exact: asymptotic notations or bounds are not acceptable.\n"
   ]
  },
  {
   "cell_type": "markdown",
   "metadata": {},
   "source": [
    "### Answer (Expected Size: 15 lines)\n",
    "\n",
    "(A) \n",
    "\n",
    "__Statement:__ For the node k to a leaf in the tree, a condition is the priority of $k$ is higher than both node $k+1$ and $k-1$ \n",
    "\n",
    "\n",
    "__Proof:__  Since a node $i$ is the ancestor of a node $j$ if and only if $i$ has the lowest priority amongst all nodes $\\{ i, \\ldots, j\\}$ (or $\\{ j, \\ldots, i\\}$ if $j < i$),  \n",
    "then we know if $i$'s priority is not the lowest amongst all nodes $\\{ i, \\ldots, j\\}$ (or $\\{ j, \\ldots, i\\}$ if $j < i$), then $i$ is not $j$'s ancsetor.  \n",
    "* when the priority of $k$ is higher than both node $k+1$ and $k-1$, for any of the node $x$(including $x=k-1$ or $x=k+1$), $k$'s priority is not the lowest amongst nodes $\\{ x, \\ldots,k-1,k\\}$(or $\\{ k,k+1 \\ldots, x\\}$ if $k < x$), so $k$ is not an ancestor for any other nodes, so we prove node $k$ is a leaf  \n",
    "* when node $k$ is a leaf, it has no children, which means node $k-1.k+1$'s priority must lower than $k$'s.  \n",
    "\n",
    "\n",
    "(B)\n",
    "\n",
    "Based on (A):\n",
    "\n",
    "When $k=1$, $Pr(k$ is a leaf$)=Pr(p_1>p_2)=\\frac{1}{2}$  \n",
    "\n",
    "When $k=n$, $Pr(k$ is a leaf$)=Pr(p_n>p_{n-1})=\\frac{1}{2}$ \n",
    "\n",
    "When $1<k<n$, $Pr(k$ is a leaf$)=Pr(p_k>p_{k+1}, p_k>p_{k-1})=\\frac{2!}{3!}=\\frac{1}{3}$  \n",
    "\n",
    " \n",
    "\n",
    "\n",
    "(C)\n",
    "\n",
    "Based on (B), we have $E$(number of leaf nodes)=$\\frac{1}{3}\\times(n-2)+\\frac{1}{2}\\times2=\\frac{n+1}{3}$"
   ]
  },
  {
   "cell_type": "markdown",
   "metadata": {},
   "source": [
    "## Problem 4 (5 points)\n",
    "\n",
    "We wish to rapidly find the $k^{th}$ smallest element in a skip list. Describe what extra information you would store in each node of the list and how you would find the $k^{th}$ smallest element in a skip list using this information.  What is the running time of your search in the worst case.\n"
   ]
  },
  {
   "cell_type": "markdown",
   "metadata": {},
   "source": [
    "## Answer (Expected Size: 5 lines)\n",
    "\n",
    "Suppose our skip list is ascending.\n",
    "\n",
    "__Extra information:__ the number of index intervals between adjacent elements in the current level. The interval should include the current element. \n",
    "\n",
    "__How to find $k^{th}$ smallest element:__\n",
    "\n",
    "Denote the interval as $i_n$ (the subscripted $n$ represents the index of the current element with this interval).  \n",
    "\n",
    "We start from the highest level's first node. \n",
    "\n",
    "Step 1: If $k<=i_n$, we will go to the lower level and make comparison with new $i_n$; else if $k>i_n$, make $k=k-i_n$ and go to the next node. \n",
    "\n",
    "Step 2: If k==1, we find the node; else go back to the first step, make comparison with the current node's interval.\n",
    "\n",
    "Worst case is when k=1, which means we want to find the minimum of the array, the running time will be O($\\log n$) since we need to jump O($\\log n$) levels."
   ]
  },
  {
   "cell_type": "code",
   "execution_count": null,
   "metadata": {},
   "outputs": [],
   "source": []
  }
 ],
 "metadata": {
  "kernelspec": {
   "display_name": "Python 3",
   "language": "python",
   "name": "python3"
  },
  "language_info": {
   "codemirror_mode": {
    "name": "ipython",
    "version": 3
   },
   "file_extension": ".py",
   "mimetype": "text/x-python",
   "name": "python",
   "nbconvert_exporter": "python",
   "pygments_lexer": "ipython3",
   "version": "3.6.3"
  }
 },
 "nbformat": 4,
 "nbformat_minor": 2
}
