{
 "cells": [
  {
   "cell_type": "markdown",
   "metadata": {},
   "source": [
    "# CSCI 5454 Assignment 2 \n",
    "\n",
    "Your Name Here: __ Xu Han __ "
   ]
  },
  {
   "cell_type": "markdown",
   "metadata": {},
   "source": [
    "## Problem 1: Axioms of Probability (20 points)\n",
    "\n",
    "Let $A$ be a sample space with a set of events $\\{ \\emptyset, E_1, \\ldots, E_n, A \\}$.  We covered the basic axioms\n",
    "of probability in class and recall a few of these axioms here.\n",
    "- $p(\\emptyset) = 0, p(A) = 1$.\n",
    "- $p(E_i) \\geq 0$ and $p(E_i) \\leq 1$ for all events $E_i$.\n",
    "- If $E_1, E_2, \\ldots, E_n$ are pairwise disjoint then $p(E_1 \\cup E_2 \\cup \\cdots \\cup E_n) = p(E_1) + \\cdots + p(E_n) $.\n",
    "\n",
    "Your proof can only use facts about sets, the  axioms above and previously proven facts in this problem. \n",
    "Please write down your proof as a bulleted list as shown below.\n",
    "\n",
    "> __Example__ Prove that if $E_1 \\subseteq E_2$ then $p(E_2 \\setminus E_1) = p(E_2) - p(E_1)$.\n",
    "\n",
    "> __Proof:__  \n",
    "> 1. $E_2 = E_1 \\cup  (E_2 \\setminus E_1) $.\n",
    "> 2. The sets $E_1, (E_2 \\setminus E_1) $ are disjoint. \n",
    "> 3. Therefore, $p(E_2) = p(E_1) + p(E_2 \\setminus E_1)$ (axiom).  \n",
    "> 4. Rearranging, $p(E_2 \\setminus E_1) = p(E_2) - p(E_1)$.\n",
    "\n",
    "(A) Prove that if $E_1 \\subseteq E_2$ then \n",
    "\n",
    "$$p(E_1) \\leq p(E_2)$$.\n",
    "\n",
    "(B) Prove the inclusion-exclusion principle: \n",
    "\n",
    "$$p(E_1 \\cup E_2) = p(E_1) + p(E_2) - p(E_1 \\cap E_2)\\,.$$\n",
    "\n",
    "(**Hint:** Write $E_1 \\cup E_2 = (E_1 \\setminus (E_1 \\cap E_2)) \\bigcup (E_2 \\setminus (E_1 \\cap E_2)) \\bigcup (E_1 \\cap E_2)$. Feel free to use the result already proved in the example above.).\n",
    "\n",
    "(C) Prove Boole's Inequality:\n",
    "\n",
    "$$p(E_1) + p(E_2) - 1 \\leq p(E_1 \\cup E_2) \\leq p(E_1) + p(E_2)\\,.$$\n",
    "\n",
    "(D) Prove Frechet's Inequality:\n",
    "\n",
    "$$p(E_1) + p(E_2) -1 \\leq p(E_1 \\cap E_2) \\leq \\min( p(E_1), p(E_2) )\\,. $$\n",
    "\n",
    "\n"
   ]
  },
  {
   "cell_type": "markdown",
   "metadata": {},
   "source": [
    "## Solution (Expected Length: 25 lines)\n",
    ">(A)  \n",
    "> 1. $E_2 = E_1 \\cup  (E_2 \\setminus E_1) $.\n",
    "> 2. The sets $E_1, (E_2 \\setminus E_1) $ are disjoint. \n",
    "> 3. Therefore, $p(E_2) = p(E_1) + p(E_2 \\setminus E_1)$ (axiom).\n",
    "> 4. The probability $p(E_2 \\setminus E_1) \\geq 0$.\n",
    "> 5. Therefore, $p(E_2) = p(E_1) + p(E_2 \\setminus E_1) \\geq p(E_1)$\n",
    "> 6. Rearranging, $p(E_1) \\leq p(E_2)$\n",
    "\n",
    ">(B)\n",
    "> 1. $E_1 \\cup E_2 = (E_1 \\setminus (E_1 \\cap E_2)) \\bigcup (E_2 \\setminus (E_1 \\cap E_2)) \\bigcup (E_1 \\cap E_2)$\n",
    "> 2. The sets $E_1 \\setminus (E_1 \\cap E_2), E_2 \\setminus (E_1 \\cap E_2)， (E_1 \\cap E_2)$ are disjoint\n",
    "> 3. Therefore, $P(E_1 \\cup E_2)=P(E_1 \\setminus (E_1 \\cap E_2)) + P(E_2 \\setminus (E_1 \\cap E_2)) + P(E_1 \\cap E_2)$ (axiom).  \n",
    "> 4. From problem (A), $P(E_1 \\cup E_2)=P(E_1)-P(E_1 \\cap E_2)+P(E_2)-P(E_1 \\cap E_2)+P(E_1 \\cap E_2)=p(E_1) + p(E_2) - p(E_1 \\cap E_2)$  \n",
    "> 5. Rearranging, $P(E_1 \\cup E_2) = p(E_1) + p(E_2) - p(E_1 \\cap E_2)$\n",
    "             \n",
    ">(C)\n",
    ">  \n",
    "__ For left side __:\n",
    "> 1. From Problem (B), $P(E_1 \\cup E_2)=p(E_1) + p(E_2) - p(E_1 \\cap E_2)$\n",
    "> 2. And the probability $P(E_1 \\cup E_2)\\leq1 $\n",
    "> 3. Therefore, $P(E_1 \\cup E_2)=p(E_1) + p(E_2) - p(E_1 \\cap E_2)\\geq p(E_1) + p(E_2)-1$\n",
    ">\n",
    "__ For right side__,\n",
    "> 1. From Problem (B), $P(E_1 \\cup E_2)=p(E_1) + p(E_2) - p(E_1 \\cap E_2)$  \n",
    "> 2. The probability $p(E_1 \\cap E_2)\\geq 0$  \n",
    "> 3. Therefore, $p(E_1) + p(E_2)=P(E_1 \\cup E_2)+p(E_1 \\cap E_2)\\geq P(E_1 \\cup E_2)$\n",
    "> \n",
    "Rearranging, $p(E_1) + p(E_2) - 1 \\leq p(E_1 \\cup E_2) \\leq p(E_1) + p(E_2)\\,.$\n",
    "\n",
    ">(D)\n",
    ">\n",
    "__ For left side __:\n",
    "> 1. From Problem (B), $P(E_1 \\cup E_2)=P(E_1) + P(E_2) - P(E_1 \\cap E_2)$, we have $P(E_1 \\cap E_2)=P(E_1) + P(E_2) - P(E_1 \\cup E_2)$,  \n",
    "> 2. And the probability $P(E_1 \\cup E_2)\\leq1$,  \n",
    "> 3. Therefore, $P(E_1 \\cap E_2)=p(E_1) + p(E_2) - p(E_1 \\cup E_2) \\geq p(E_1) + p(E_2) - 1 $\n",
    "> \n",
    "__ For right side__:\n",
    "> \n",
    "> 1. We know $E_1 \\subseteq E_1 \\cup E_2,  E_2 \\subseteq E_1 \\cup E_2$, from Problem (A), $P(E_1)\\leq P(E_1 \\cup E_2), P(E_2)\\leq P(E_1 \\cup E_2)$,  \n",
    "> 2. Therefore, $-P(E_1 \\cup E_2)\\leq -P(E_1), -P(E_1 \\cup E_2)\\leq -P(E_2)$  \n",
    "> 3. And from Problem (B), $P(E_1 \\cup E_2) = P(E_1) + P(E_2) - P(E_1 \\cap E_2)$, so $P(E_1 \\cap E_2) = P(E_1) + P(E_2) - P(E_1 \\cup E_2)$\n",
    "> 4. Therefore, $P(E_1 \\cap E_2) = P(E_1) + P(E_2) - P(E_1 \\cup E_2)\\leq P(E_1) + P(E_2)-P(E_1)=P(E_2)$,  \n",
    "and $P(E_1 \\cap E_2) = P(E_1) + P(E_2) - P(E_1 \\cup E_2)\\leq P(E_1) + P(E_2)-P(E_2)=P(E_1)$,  \n",
    "> 5. Therefore, $P(E_1 \\cap E_2)\\leq P(E_1),P(E_1 \\cap E_2)\\leq P(E_2)$,  \n",
    "> 6. Rearranging, $P(E_1 \\cap E_2)\\leq \\min( P(E_1),P(E_2) )$\n",
    "\n",
    ">Rearranging, $p(E_1) + p(E_2) -1 \\leq p(E_1 \\cap E_2) \\leq \\min( p(E_1), p(E_2) )\\,. $"
   ]
  },
  {
   "cell_type": "markdown",
   "metadata": {},
   "source": [
    "## Problem 2  (20 points)\n",
    "\n",
    "You are given a fair coin that can come up with heads with probability $\\frac{1}{2}$ \n",
    "and tails with probability $\\frac{1}{2}$. Using this coin, we can simulate coins that have\n",
    "a probability $p = \\frac{1}{8}$ of showing up heads, for example. To do this, toss\n",
    "the fair coin three times and return __heads__ if all three tosses are heads, and __tails__ if any\n",
    "of the tosses showed up tails.\n",
    "\n",
    "__(A)__  Design an algorithm that can simulate a biased \"coin\" with probability\n",
    "of heads given by $p = \\frac{21}{64} = \\frac{1}{4} + \\frac{1}{16} + \\frac{1}{64} $.\n",
    "Your algorithm can perform multiple tosses of the fair coin. Your algorithm\n",
    "should return TRUE with probability $\\frac{21}{64}$\n",
    "and  FALSE with probability $1 - \\frac{21}{64}$.\n",
    "\n",
    "__(B)__  Design an algorithm that can simulate a biased coin with probability\n",
    "of heads given by $\\frac{1}{3} = \\frac{1}{2^2} + \\frac{1}{2^4} + \\frac{1}{2^6} + \\frac{1}{2^8} + \\cdots $.\n",
    "Your algorithm can perform multiple tosses of the fair coin. Your algorithm must\n",
    "return TRUE with probability $\\frac{1}{3}$ and  FALSE with probability\n",
    "$\\frac{2}{3}$.\n",
    "\n",
    "Give a justification as to why the probability of your algorithm returning true is $\\frac{1}{3}$.\n",
    "\n",
    "What is the expected running number of times your algorithm will need to toss the fair coin?\n",
    "\n",
    "\n",
    "__How to write the solution__ \n",
    "\n",
    "> 1. initialize  a counter $i = 1$.\n",
    "> 2. Toss the coin.\n",
    ">   - If it shows up heads ...\n",
    ">   - If it shows up tails ...  \n",
    "> .... \n",
    "> ... i = i + 1, and repeat step 2.\n",
    "> \n",
    "> The reason the algorithm works is because, the probability of returning TRUE is given by the expression\n",
    "> $ \\cdots  = \\frac{1}{3}$. The algorithm performs repeated tosses and therefore, .... The expected running time is xx steps."
   ]
  },
  {
   "cell_type": "markdown",
   "metadata": {},
   "source": [
    "### Answer (Expected Length: 20 lines).\n",
    "> Your answer here for __(A)__ \n",
    "> 1. initialize a counter  i=1 .  \n",
    "> 2. When i<=6:\n",
    ">   - Toss the coin.\n",
    ">   - If it shows up heads, break out of the loop, go to step 3\n",
    ">   - If it shows up tails, i=i+1, and repeat step 2  \n",
    "> 3. - If i is even(i%2 == 0) return True\n",
    "   - else return False  \n",
    "   \n",
    "> The reason the algorithm works is because, the probability of returning TRUE is given by the expression  \n",
    "p(True)=p(head shows up first at the 2nd toss)+ p(head shows up first at the 4th toss) + p(head shows up first at the 6th toss)=$\\frac{1}{2^2}+\\frac{1}{2^4}+\\frac{1}{2^6}=\\frac{21}{64}$\n",
    "\n",
    "> Answer for __(B)__\n",
    "\n",
    "> 1. initialize a counter  i=1 .  \n",
    "> 2. Toss the coin\n",
    ">   - If it shows up heads, break out of the loop, go to step 3\n",
    ">   - If it shows up tails, i=i+1, and repeat step 2  \n",
    "> 3. - If i is even(i%2 == 0) return True\n",
    "   - else return False \n",
    "  \n",
    ">The reason the algorithm works is because, the probability of returning TRUE is given by the expression  \n",
    "p(True)=p(head shows up first at $even^{th}$ toss)=$\\frac{1}{2^2}+\\frac{1}{2^4}+\\frac{1}{2^6}+\\cdots=\\sum_{k=1}^{\\infty}{} \\frac{1}{2^{2k}}=\\frac{1}{3}$  \n",
    "\n",
    ">__ Expected running number of times:__\n",
    ">\n",
    "The expected running number of times is $E=\\frac{1}{2}+\\frac{2}{2^2}+\\frac{3}{2^3}+\\cdots=\\sum_{k=1}^{\\infty}{\\frac{k}{2^k}}$,  \n",
    "> make $S_n=\\sum_{k=1}^{n}{\\frac{k}{2^k}}=\\frac{1}{2}+\\frac{2}{4}+\\frac{3}{8}+\\cdots+\\frac{n}{2^n}\\tag{1}$\n",
    ">so make both sides of this summation multiplied by 1/2, \n",
    ">$\\frac{1}{2}S_n=\\sum_{k=1}^{n}{\\frac{k}{2^{k+1}}}=\\frac{1}{4}+\\frac{2}{8}+\\frac{3}{16}+\\cdots+\\frac{n-1}{2^n}+\\frac{n}{2^{n+1}}\\tag{2}$,  \n",
    ">now we use summation (1) minus summation (2), we have $\\frac{1}{2}S_n=\\frac{1}{2}+\\frac{1}{4}+\\cdots+\\frac{1}{2^n}-\\frac{n}{2^{n+1}}=\\sum_{k=1}^{n}{\\frac{1}{2^k}}-\\frac{n}{2^{n+1}}=\\frac{\\frac{1}{2}(1-\\frac{1}{2^n})}{1-\\frac{1}{2}}-\\frac{n}{2^{n+1}}=1-\\frac{1}{2^n}-\\frac{n}{2^{n+1}}$  \n",
    ">so, $S_n=2-\\frac{1}{2^{n-1}}-\\frac{n}{2^n}$  \n",
    ">when $n\\to\\infty$, we have $E=\\lim_{n\\to\\infty}S_n=2$"
   ]
  },
  {
   "cell_type": "markdown",
   "metadata": {},
   "source": [
    "### Problem 2(C), 5 points\n",
    "\n",
    "Implement your scheme in 2(B) to get a function that uses a fair coin obtained by calling the inbuilt function\n",
    "`random.getrandbits(1)` in python to get a random bit and returns `True` with probability $\\frac{1}{3}$.\n",
    "Note that $\\frac{1}{3}$ in binary is given by $0.01010101\\cdots$."
   ]
  },
  {
   "cell_type": "code",
   "execution_count": 5,
   "metadata": {},
   "outputs": [],
   "source": [
    "from random import getrandbits\n",
    "def makeOneThirdCoin(): \n",
    "    # binary expansion of 1/3 is 0.0101010101....\n",
    "    # To obtain a random boolean with half probability of true and half probability of false\n",
    "    #         b = bool(getrandbits(1))\n",
    "    # Your code here\n",
    "    i=1\n",
    "    while(True):\n",
    "        if bool(getrandbits(1)):\n",
    "            break\n",
    "        else:\n",
    "            i+=1\n",
    "    return True if i%2 == 0 else False"
   ]
  },
  {
   "cell_type": "code",
   "execution_count": 6,
   "metadata": {
    "scrolled": false
   },
   "outputs": [
    {
     "name": "stdout",
     "output_type": "stream",
     "text": [
      "Count =  3332391  probability est =  0.3332391\n"
     ]
    }
   ],
   "source": [
    "# Test that probability of makeOneThirdCoin() is correct\n",
    "count = 0\n",
    "t = 0\n",
    "nTrials = 10000000\n",
    "for i in range(nTrials): \n",
    "    b = makeOneThirdCoin()\n",
    "    if (b):\n",
    "        count = count + 1\n",
    "print('Count = ', count, ' probability est = ', count/nTrials)"
   ]
  },
  {
   "cell_type": "markdown",
   "metadata": {},
   "source": [
    "The calculated probability is very close to 1/3."
   ]
  },
  {
   "cell_type": "markdown",
   "metadata": {},
   "source": [
    "## Problem 3 (Coupon Collector's Problem: Experimentally, 15 points)\n",
    "\n",
    "In this problem, we explore the behavior of the coupon's collector problem experimentally. \n",
    "\n",
    "You will need to use random and matplotlib packages for this problem.\n",
    "\n",
    "(A) Complete a python function `simulateCouponCollection(n)` for input ` n > 1` that \n",
    "1. creates a boolean array $b$ of length n initially all false.\n",
    "2. repeatedly generates a uniform random number $j$ from $0$ to $n-1$ and makes $b[j]$ true.\n",
    "3. returns the number of times step 2 needs to be run before all the entries of $b$ become true.\n",
    "The return value is thus the number of coupons collected before all coupons are seen.\n",
    "\n",
    "(B) Next, run `simulateCouponCollection(n)` for $n = 10, 20, 30, ..., 200$.\n",
    "- for each $n$ run the coupon collection at least 1000 times.\n",
    "- Plot the average value of the number of coupons collected against n.\n",
    "- Sample code using matplotlib library is provided.\n",
    "\n",
    "Suggestion: Write a function `runCouponCollectionExperiment()` that varies $n$ over the given range, \n",
    "running `simulateCouponCollection(n)` a thousand times for each n. Compute the average for each \n",
    "n and return a dictionary mapping each `n` to the average value for `n`. \n",
    "Use the provided utility function `plotMap` to plot your map and compare to $1.1 n \\log(n)$. Feel free to augment our simple efforts.\n",
    "\n",
    "(C) Finally fixing $n = 500$, run `simulateCouponCollection(n)` at least 5000 times. And plot a histogram of the results. You will note the \"concentration of measure\" phenomenon clearly. Although the maximum number of trials\n",
    "can be quite large, you will find that the density concentrates closely around $(n \\log(n))$.\n",
    "\n",
    "Suggestion: Write a function `histogramCouponCollection` to obtain the raw data as a list. Use the provided `plotHistogramFromList` function to implement the histogram. Feel free to augment our simple efforts.\n"
   ]
  },
  {
   "cell_type": "code",
   "execution_count": 1,
   "metadata": {},
   "outputs": [],
   "source": [
    "from random import randint\n",
    "def simulateCouponCollection(n):\n",
    "    # Your code here.\n",
    "    b = [False] * n\n",
    "    count = 0\n",
    "    while(not all(b)):\n",
    "        random_number = randint(0,n-1)\n",
    "        b[random_number]=True\n",
    "        count+=1\n",
    "    return count"
   ]
  },
  {
   "cell_type": "code",
   "execution_count": 2,
   "metadata": {},
   "outputs": [],
   "source": [
    "def runCouponCollectionExperiment(nMax):\n",
    "    returnData = {}\n",
    "    # Your code here\n",
    "    times=0\n",
    "    for i in range(10,nMax+1,10):\n",
    "        for j in range(0,1000):\n",
    "            times+=simulateCouponCollection(i)\n",
    "        returnData[i]=times/1000\n",
    "        times=0\n",
    "    return returnData"
   ]
  },
  {
   "cell_type": "code",
   "execution_count": 3,
   "metadata": {},
   "outputs": [],
   "source": [
    "mymap = runCouponCollectionExperiment(200)"
   ]
  },
  {
   "cell_type": "code",
   "execution_count": 4,
   "metadata": {},
   "outputs": [],
   "source": [
    "%matplotlib inline\n",
    "import matplotlib.pyplot as plt\n",
    "import math\n",
    "def plotMap(m, nMax):\n",
    "    n = list(range(10, nMax, 10))\n",
    "    v = []\n",
    "    nlogn = [] \n",
    "    for i in n:\n",
    "        nlogn.append( 1.1* i * math.log(i))\n",
    "        if i in m:\n",
    "            v.append(m[i])\n",
    "        else:\n",
    "            print('Warning: no data for n = ', i)\n",
    "            v.append(0)\n",
    "    plt.plot(n, v, 'go-', label='Avg. Steps to Collect all Coupons', linewidth=2)\n",
    "    plt.plot(n, nlogn, 'r--', label='n log(n)', linewidth=2)\n",
    "    plt.xlabel(\"n\")\n",
    "    plt.ylabel(\"# steps to collect all coupons\")\n",
    "    plt.show()\n",
    "        "
   ]
  },
  {
   "cell_type": "code",
   "execution_count": 5,
   "metadata": {},
   "outputs": [
    {
     "data": {
      "image/png": "[encoded data removed]",
      "text/plain": [
       "<matplotlib.figure.Figure at 0x106e73550>"
      ]
     },
     "metadata": {},
     "output_type": "display_data"
    }
   ],
   "source": [
    "plotMap(mymap, 200)"
   ]
  },
  {
   "cell_type": "code",
   "execution_count": 10,
   "metadata": {},
   "outputs": [],
   "source": [
    "def runHistogram(n, numTrials):\n",
    "    lst = []\n",
    "    for i in range(numTrials):\n",
    "        lst.append(simulateCouponCollection(n))\n",
    "    return lst"
   ]
  },
  {
   "cell_type": "code",
   "execution_count": 11,
   "metadata": {},
   "outputs": [],
   "source": [
    "lst = runHistogram(500, 50000)"
   ]
  },
  {
   "cell_type": "code",
   "execution_count": 12,
   "metadata": {},
   "outputs": [],
   "source": [
    "def plotHistogramFromList(lst):\n",
    "    plt.hist(lst, density=True, bins=50)\n",
    "    plt.ylabel('Probability')\n",
    "    plt.xlabel('# steps to collect all coupons')\n",
    "    plt.show()"
   ]
  },
  {
   "cell_type": "code",
   "execution_count": 13,
   "metadata": {},
   "outputs": [
    {
     "data": {
      "image/png": "[encoded data removed]",
      "text/plain": [
       "<matplotlib.figure.Figure at 0x111e26320>"
      ]
     },
     "metadata": {},
     "output_type": "display_data"
    }
   ],
   "source": [
    "plotHistogramFromList(lst)"
   ]
  },
  {
   "cell_type": "markdown",
   "metadata": {},
   "source": [
    "I found that the density concentrates closely around  $(n \\ln(n))$ "
   ]
  },
  {
   "cell_type": "code",
   "execution_count": null,
   "metadata": {},
   "outputs": [],
   "source": []
  }
 ],
 "metadata": {
  "kernelspec": {
   "display_name": "Python 3",
   "language": "python",
   "name": "python3"
  },
  "language_info": {
   "codemirror_mode": {
    "name": "ipython",
    "version": 3
   },
   "file_extension": ".py",
   "mimetype": "text/x-python",
   "name": "python",
   "nbconvert_exporter": "python",
   "pygments_lexer": "ipython3",
   "version": "3.6.3"
  }
 },
 "nbformat": 4,
 "nbformat_minor": 2
}
