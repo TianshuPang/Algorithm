{
 "cells": [
  {
   "cell_type": "markdown",
   "metadata": {},
   "source": [
    "# CSCI 5454: Assignment 9\n",
    "\n",
    "Name: __Xu Han__\n",
    "\n",
    "\n",
    "The assignment may require you to add images to describe solutions. Please include those images with your submission and upload a ZIP file. How to embed an image inside a Jupyter notebook?\n",
    "\n",
    "- Place image in same directory as notebook.\n",
    "- Use HTML tags\n",
    "\n",
    "~~~\n",
    "<img src = \"filename.JPG\" width=\"XX%\">\n",
    "~~~\n",
    "\n",
    "__Example:__\n",
    "\n",
    "<img src=\"https://upload.wikimedia.org/wikipedia/commons/thumb/1/11/GLPK_solution_of_a_travelling_salesman_problem.svg/512px-GLPK_solution_of_a_travelling_salesman_problem.svg.png\" width=\"30%\" >\n"
   ]
  },
  {
   "cell_type": "markdown",
   "metadata": {},
   "source": [
    "## Problem 1: Approximation Ratio For Minimum Makespan Job Scheduling (15 points)\n",
    "\n",
    "In class we studied a greedy approach for distributing $n$ jobs among $m$ processors to achieve\n",
    "a factor $2$ approximation to the optimal solution. In fact, a slightly more careful analysis will\n",
    "show that this factor is actually $2 - \\frac{1}{m}$.\n",
    "\n",
    "For each value of $m$ design $n = m(m-1) + 1$ jobs such that the greedy algorithm's solution\n",
    "is $\\alpha = 2-\\frac{1}{m}$ times the actual optimum.\n",
    "\n",
    "** Hint : ** Create a bunch of \"tiny\" jobs and one big job. How do you make sure that the performance of\n",
    "greedy will be $\\alpha$ times worse than the optimum?"
   ]
  },
  {
   "cell_type": "markdown",
   "metadata": {},
   "source": [
    "## Answer 1 (Expected Size: 6 lines).\n",
    "\n",
    "\n",
    "For each value of $m$ create $m(m-1)$ tiny jobs and another big job. Every tiny job takes time 1 to complete and the big job takes time $m$.   \n",
    "Greedy algorithm's solution is: $m(m-1)$ tiny jobs are allocated to the m machines, each machine will be allocated $m-1$ tiny jobs. The big job will be allocated one of the $m$ machines. The makespan is $T(greedy)=m-1+m=2m-1$.  \n",
    "The optimal solution is: allocate $m(m-1)$ tiny jobs to $m-1$ machines, each machine has $m$ tiny jobs, and then put the big job to the last machine. The makespan is $T(optimal)=m$.  \n",
    "So $T(greedy)=\\alpha T(optimal)$"
   ]
  },
  {
   "cell_type": "markdown",
   "metadata": {},
   "source": [
    "## Problem 2: Worst Case for Greedy Vertex Cover (10 Points)\n",
    "\n",
    "We examined a factor 2 approximation for vertex cover in class (see Jeff Erikson's notes).\n",
    "Describe a family of examples consisting of a graph $G_n$ for any $n$ with\n",
    "$n$ vertices wherein the greedy algorithm's vertex cover on $G_n$ is precisely twice as large as\n",
    "the optimal vertex cover."
   ]
  },
  {
   "cell_type": "markdown",
   "metadata": {},
   "source": [
    "## Answer 2 (Expected Size: 5 lines)\n",
    "\n",
    "A special bipartite group satisfies this. In the bipartite graph, there are equal number of vertices in the two parts, and every vertex in a part only connects to one vertex in the other part. In this case, the optimal solution will be all the vertices in one part, and the greedy solution will be all the vertices, as shown in the figure below.\n",
    "<img src = \"1.jpeg\" width=\"30%\">"
   ]
  },
  {
   "cell_type": "markdown",
   "metadata": {},
   "source": [
    "## Problem 3: TSP Approximation (10 points)\n",
    "\n",
    "Describe a weighted graph with $n$ nodes for any $n$ such that the  weights have the metric property such that the size of the optimum TSP tour is  twice the size of the minimum spanning tree. **Hint** Think straight lines!"
   ]
  },
  {
   "cell_type": "markdown",
   "metadata": {},
   "source": [
    "## Answer 3 (Expected Size: 3 Lines)"
   ]
  },
  {
   "cell_type": "markdown",
   "metadata": {},
   "source": [
    "A graph which doesn't have cycle, branch and all its vertices are connected in a line, as shown in figure below.\n",
    "The MST of the graph is the graph itself. The optimal TSP tour will be A-B-C-D-E-D-C-B-A. The size of the tour is $2\\times $ sum of the weights. The size of the MST is the sum of all the weights.\n",
    "<img src = \"2.jpeg\" width=\"30%\">"
   ]
  },
  {
   "cell_type": "code",
   "execution_count": null,
   "metadata": {},
   "outputs": [],
   "source": []
  }
 ],
 "metadata": {
  "kernelspec": {
   "display_name": "Python 3",
   "language": "python",
   "name": "python3"
  },
  "language_info": {
   "codemirror_mode": {
    "name": "ipython",
    "version": 3
   },
   "file_extension": ".py",
   "mimetype": "text/x-python",
   "name": "python",
   "nbconvert_exporter": "python",
   "pygments_lexer": "ipython3",
   "version": "3.6.3"
  }
 },
 "nbformat": 4,
 "nbformat_minor": 2
}
