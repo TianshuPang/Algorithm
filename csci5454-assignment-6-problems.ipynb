{
 "cells": [
  {
   "cell_type": "markdown",
   "metadata": {},
   "source": [
    "# CSCI 5454 Assignment 6"
   ]
  },
  {
   "cell_type": "markdown",
   "metadata": {},
   "source": [
    "## Instructions\n",
    "\n",
    "Name: __Xu Han__\n",
    "\n",
    "Collaborated With: \n",
    "\n",
    "> This assignment is to be completed and uploaded to \n",
    "moodle as a python3 notebook. \n",
    "\n",
    "> Submission deadlines are posted on moodle. \n",
    "\n",
    "> The questions  provided  below will ask you to either write code or \n",
    "write answers in the form of markdown.\n",
    "\n",
    "> Markdown syntax guide is here: [click here](https://github.com/adam-p/markdown-here/wiki/Markdown-Cheatsheet)\n",
    "\n",
    "> Using markdown you can typeset formulae using latex.\n",
    "\n",
    "> This way you can write nice readable answers with formulae like thus:\n",
    "\n",
    ">> The algorithm runs in time $\\Theta\\left(n^{2.1\\log_2(\\log_2( n \\log^*(n)))}\\right)$, \n",
    "wherein $\\log^*(n)$ is the inverse _Ackerman_ function.\n",
    "\n",
    "__Double click anywhere on this box to find out how your instructor typeset it. Press Shift+Enter to go back. __\n"
   ]
  },
  {
   "cell_type": "markdown",
   "metadata": {},
   "source": [
    "## Question 1: Dynamic Programmer Jane's Progress\n",
    "\n",
    "**Note:** Need to connect to internet to see images. \n",
    "\n",
    "We are writing a simple game AI for guiding our `Jane` the dynamic programmer to jump through a set of levels to reach a target level by taking\n",
    "courses in dynamic programming.\n",
    "\n",
    "The levels positions are numbered 1, ... , n. The character starts at level 1 and the goal is to reach level n (where she becomes\n",
    "a d.p. ninja) and thus aces CSCI 5454.\n",
    "After taking a course, she can choose to move up by 1, 4, 5 or 11 levels forward at each step. No backward jumps are available.\n",
    "\n",
    "<img src=\"http://www.cs.colorado.edu/~srirams/courses/csci5454-fall18/pictures/jane-picture-p1.png\">\n",
    "\n",
    "Your goal is to use dynamic programming to find out how to reach from level 1 to level n with the minimum number of courses.\n",
    "\n",
    "## 1(A) Write a recurrence.\n",
    "\n",
    "Write a recurrence `minCoursesForJane(j, n)` that represents the minimum number of steps for Jane to reach from level j to level n.\n"
   ]
  },
  {
   "cell_type": "code",
   "execution_count": 5,
   "metadata": {},
   "outputs": [],
   "source": [
    "from math import inf\n",
    "def minCoursesForJane(j, n): \n",
    "    # Your code here\n",
    "    # Must return a number \n",
    "    #edge cases\n",
    "    if (n-j==1) or (n-j==4) or (n-j==5) or (n-j==11):\n",
    "        return 1\n",
    "    if n-j<0:\n",
    "        return inf\n",
    "    if n-j==0:\n",
    "        return 0\n",
    "    \n",
    "    result = min(1+minCoursesForJane(j+1,n),1+minCoursesForJane(j+4,n),1+minCoursesForJane(j+5,n),1+minCoursesForJane(j+11,n))\n",
    "    return result"
   ]
  },
  {
   "cell_type": "code",
   "execution_count": 6,
   "metadata": {},
   "outputs": [
    {
     "name": "stdout",
     "output_type": "stream",
     "text": [
      "2\n",
      "2\n",
      "4\n",
      "3\n",
      "5\n"
     ]
    }
   ],
   "source": [
    "## Test Code: Do not edit\n",
    "print(minCoursesForJane(1, 9)) # should be 2\n",
    "print(minCoursesForJane(1, 13)) # should be 2\n",
    "print(minCoursesForJane(1, 19)) # should be 4\n",
    "print(minCoursesForJane(1, 34)) # should be 3\n",
    "print(minCoursesForJane(1, 43)) # should be 5"
   ]
  },
  {
   "cell_type": "markdown",
   "metadata": {},
   "source": [
    "## 1(B) Memoize the Recurrence.\n",
    "\n",
    "Assume that n is fixed. The memo table $T[0], \\ldots, T[n]$ should store the value of `minCoursesForJane(j, n)`. "
   ]
  },
  {
   "cell_type": "code",
   "execution_count": 38,
   "metadata": {},
   "outputs": [],
   "source": [
    "from math import inf\n",
    "def minCoursesForJane_Memoize(n): # Assume that j = 1 is always the starting point.\n",
    "    # must return a number\n",
    "    # answer must coincide with recursive version\n",
    "    \n",
    "    #define T[i] as steps needed from level i to level n\n",
    "    T = [0 for x in range(n+1)]\n",
    "    for i in range(n-1,0,-1):\n",
    "        # when only needs 1 step to n   \n",
    "        if 0< n-i <4:\n",
    "            T[i] = T[i+1]+1\n",
    "        elif n-i==4:\n",
    "            T[i] = T[i+4]+1\n",
    "        elif n-i==5:\n",
    "            T[i] = T[i+5]+1\n",
    "        elif n-i==11: \n",
    "            T[i] = T[i+11]+1 \n",
    "            \n",
    "        elif 5 < n-i < 11:\n",
    "            T[i] = min(1+T[i+1],1+T[i+4],1+T[i+5])\n",
    "                \n",
    "        else:\n",
    "            T[i] = min(1+T[i+1],1+T[i+4],1+T[i+5],1+T[i+11])\n",
    "                \n",
    "    return T[1]\n",
    "        "
   ]
  },
  {
   "cell_type": "code",
   "execution_count": 39,
   "metadata": {},
   "outputs": [
    {
     "name": "stdout",
     "output_type": "stream",
     "text": [
      "2\n",
      "2\n",
      "4\n",
      "3\n",
      "5\n"
     ]
    }
   ],
   "source": [
    "## Test Code: Do not edit\n",
    "print(minCoursesForJane_Memoize(9)) # should be 2\n",
    "print(minCoursesForJane_Memoize(13)) # should be 2\n",
    "print(minCoursesForJane_Memoize(19)) # should be 4\n",
    "print(minCoursesForJane_Memoize(34)) # should be 3\n",
    "print(minCoursesForJane_Memoize(43)) # should be 5"
   ]
  },
  {
   "cell_type": "markdown",
   "metadata": {},
   "source": [
    "## 1(C) Recover the Solution\n",
    "\n",
    "Modify the solution from part B to also return how many steps Jane needs to jump at each course.  Your answer must be\n",
    "a pair: `minimum number of courses, list of jumps at each course: each elements of this list must be 1, 4, 5 or 11`\n"
   ]
  },
  {
   "cell_type": "code",
   "execution_count": 3,
   "metadata": {},
   "outputs": [],
   "source": [
    "from math import inf\n",
    "def minCoursesForJane_Solution(n): # Assume that j = 1 is always the starting point\n",
    "   # Your code here\n",
    "   # must return a pair of number, list\n",
    "   # number returned is the same as minCoursesForJane_Memoize\n",
    "   # list must be a list of jumps consisting of elements [1,4, 5, 11]\n",
    "   # return 200, [1, 11, 5, 11, 5, 5, 5, 4] # EDIT\n",
    "    \n",
    "    \n",
    "    #define T[i] as steps needed from level i to level n\n",
    "    T = [0 for x in range(n+1)]\n",
    "    T_list = [0 for x in range(n+1)]\n",
    "    \n",
    "    for i in range(n-1,0,-1):\n",
    "        # when only needs 1 step to n   \n",
    "        if 0< n-i <4:\n",
    "            T[i] = T[i+1]+1\n",
    "            T_list[i] = 1 \n",
    "        elif n-i==4:\n",
    "            T[i] = T[i+4]+1\n",
    "            T_list[i] = 4 \n",
    "        elif n-i==5:\n",
    "            T[i] = T[i+5]+1\n",
    "            T_list[i] = 5\n",
    "        elif n-i==11: \n",
    "            T[i] = T[i+11]+1\n",
    "            T_list[i] = 11\n",
    "            \n",
    "        elif 5 < n-i < 11:\n",
    "            T[i] = min(1+T[i+1],1+T[i+4],1+T[i+5])\n",
    "            if(T[i] == T[i+1]+1):\n",
    "                T_list[i]=1\n",
    "            elif(T[i] == T[i+4]+1):\n",
    "                T_list[i]=4\n",
    "            elif(T[i] == T[i+5]+1):\n",
    "                T_list[i]=5\n",
    "                \n",
    "        else:\n",
    "            T[i] = min(1+T[i+1],1+T[i+4],1+T[i+5],1+T[i+11])\n",
    "            if(T[i] == T[i+1]+1):\n",
    "                T_list[i]=1\n",
    "            elif(T[i] == T[i+4]+1):\n",
    "                T_list[i]=4\n",
    "            elif(T[i] == T[i+5]+1):\n",
    "                T_list[i]=5\n",
    "            elif(T[i] == T[i+11]+1):\n",
    "                T_list[i]=11\n",
    "                \n",
    "    result = []\n",
    "    j =1\n",
    "    # skip the meaningless jumps\n",
    "    while j < n:\n",
    "        result.append(T_list[j])\n",
    "        j = j+T_list[j]\n",
    "     \n",
    "    return T[1],result\n",
    "\n",
    "                \n",
    "        "
   ]
  },
  {
   "cell_type": "code",
   "execution_count": 4,
   "metadata": {},
   "outputs": [
    {
     "name": "stdout",
     "output_type": "stream",
     "text": [
      "(2, [4, 4])\n",
      "(2, [1, 11])\n",
      "(4, [1, 1, 5, 11])\n",
      "(3, [11, 11, 11])\n",
      "(5, [4, 5, 11, 11, 11])\n"
     ]
    }
   ],
   "source": [
    "## Test Code: Do not edit\n",
    "print(minCoursesForJane_Solution(9)) # should be 2, [4, 4]\n",
    "print(minCoursesForJane_Solution(13)) # should be 2, [1, 11]\n",
    "print(minCoursesForJane_Solution(19)) # should be 4, [1, 1, 5, 11]\n",
    "print(minCoursesForJane_Solution(34)) # should be 3, [11, 11, 11]\n",
    "print(minCoursesForJane_Solution(43)) # should be 5, [4, 5, 11, 11, 11]"
   ]
  },
  {
   "cell_type": "markdown",
   "metadata": {},
   "source": [
    "## 1(D) Greedy Solution\n",
    "\n",
    "Suppose Jane tried a greedy strategy that works as follows. \n",
    "Initialize number of courses $c = 0$.\n",
    "\n",
    "   1. While $n \\geq 11$,\n",
    "      1.1 jump $11$ steps forward, and set $n = n - 11$, $ c = c + 1$\n",
    "   2. While $n \\geq 5$, \n",
    "      2.1 jump $5$ steps forward and set $n = n - 5$, $ c = c + 1$\n",
    "   3. While $n \\geq 4$, \n",
    "      3.1 jump $4$ steps forward and set $n = n - 4$, $c = c + 1$\n",
    "   4. Finally, while $n > 1$, \n",
    "      4.1 jump $1$ step forward and set $n = n - 1$, $c = c + 1$\n",
    "     \n",
    "This way, she can reach level $n$ starting from level $1$ using $c$ courses.\n",
    "\n",
    "Show using an example for $n$ that this strategy may require her to take more courses than the optimal solution from dynamic programming."
   ]
  },
  {
   "cell_type": "markdown",
   "metadata": {},
   "source": [
    "__ Answer (Expected Length 3 lines) __ \n",
    "\n",
    "\n",
    "The greedy solution always starts from the largest step, however, there are situations where the total c with larger steps to smaller step is greater than what is derived from DP algorithm. For example, when n = 15, the Greedy algorithm will return c = 4(11 steps, 1 step, 1 step, 1 step) while the DP algorithm will return c = 3(4 steps, 5 steps, 5 steps)"
   ]
  },
  {
   "cell_type": "markdown",
   "metadata": {},
   "source": [
    "## Question 2: The Defeat of Kilokahn\n",
    "\n",
    "Unfortunately, life was not as simple as it seemed in problem 1. Some of the levels have been hacked by an evil group of \n",
    "students who can subvert Jane and her great expertise to serve evil Kilokahn (Kilometric Knowledge-base Animate Human Nullity). \n",
    "\n",
    "Any level j that leaves a remainder of 2 when divided by 7 is to be avoided by Jane as she progresses towards level n (where she\n",
    "becomes a code ninja). However, Kilokahn will not be at level $n$ even if $n \\mod 7 = 2$.\n",
    "\n",
    "Jane_Programmer At Start of Game with Kilokahn lurking:\n",
    "\n",
    "<img src=\"http://www.cs.colorado.edu/~srirams/courses/csci5454-fall18/pictures/jane-picture-p2.png\">\n",
    "\n",
    "\n",
    "\n",
    "\n",
    "## 2(A) Write a recurrence.\n",
    "\n",
    "Write a recurrence `minCoursesForJaneAvoidKK(j, n)` that represents the minimum number of steps for Jane to reach from level j to level n while not reaching any level occupied by Kilokahn.\n"
   ]
  },
  {
   "cell_type": "code",
   "execution_count": 59,
   "metadata": {},
   "outputs": [],
   "source": [
    "def minCoursesForJaneAvoidKK(j, n):\n",
    "   #edge cases\n",
    "    if (n-j==1) or (n-j==4) or (n-j==5) or (n-j==11) and (j%7!=2):\n",
    "        return 1\n",
    "    if n-j<0:\n",
    "        return inf\n",
    "    if j%7==2:\n",
    "        return inf\n",
    "    if n-j==0:\n",
    "        return 0\n",
    "    \n",
    "    result = min(1+minCoursesForJaneAvoidKK(j+1,n),1+minCoursesForJaneAvoidKK(j+4,n),1+minCoursesForJaneAvoidKK(j+5,n),1+minCoursesForJaneAvoidKK(j+11,n))\n",
    "    return result"
   ]
  },
  {
   "cell_type": "code",
   "execution_count": 60,
   "metadata": {},
   "outputs": [
    {
     "name": "stdout",
     "output_type": "stream",
     "text": [
      "2\n",
      "2\n",
      "4\n",
      "5\n",
      "5\n",
      "6\n"
     ]
    }
   ],
   "source": [
    "## Test Code: Do not edit\n",
    "print(minCoursesForJaneAvoidKK(1, 9)) # should be 2\n",
    "print(minCoursesForJaneAvoidKK(1, 13)) # should be 2\n",
    "print(minCoursesForJaneAvoidKK(1, 19)) # should be 4\n",
    "print(minCoursesForJaneAvoidKK(1, 34)) # should be 5\n",
    "print(minCoursesForJaneAvoidKK(1, 43)) # should be 5\n",
    "print(minCoursesForJaneAvoidKK(1, 55)) # should be 6"
   ]
  },
  {
   "cell_type": "markdown",
   "metadata": {},
   "source": [
    "## 2(B) Memoize the recurrence in 2(A)"
   ]
  },
  {
   "cell_type": "code",
   "execution_count": 36,
   "metadata": {},
   "outputs": [],
   "source": [
    "def minCoursesForJaneAvoidKK_Memoize(n): # j is assumed to be 1 \n",
    "    #define T[i] as steps needed from level i to level n \n",
    "    T = [0 for x in range(n+1)]\n",
    "        \n",
    "    for i in range(n-1,0,-1):\n",
    "        if i%7==2:\n",
    "            T[i] = inf\n",
    "        # when only needs 1 step to n\n",
    "        elif 0< n-i < 4:\n",
    "            T[i]= T[i+1]+1 \n",
    "        elif n-i == 4:\n",
    "            T[i]= T[i+4]+1\n",
    "        elif n-i == 5:\n",
    "            T[i] = T[i+5]+1\n",
    "        elif n-i == 11:\n",
    "            T[i] = T[i+11]+1\n",
    "            \n",
    "        elif 5 < n-i < 11:\n",
    "            T[i] = min(1+T[i+1],1+T[i+4],1+T[i+5])\n",
    "                \n",
    "        else:\n",
    "            T[i] = min(1+T[i+1],1+T[i+4],1+T[i+5],1+T[i+11])\n",
    "                \n",
    "    return T[1]"
   ]
  },
  {
   "cell_type": "code",
   "execution_count": 37,
   "metadata": {},
   "outputs": [
    {
     "name": "stdout",
     "output_type": "stream",
     "text": [
      "2\n",
      "2\n",
      "4\n",
      "5\n",
      "5\n",
      "6\n",
      "8\n",
      "83\n"
     ]
    }
   ],
   "source": [
    "## Test Code: Do not edit\n",
    "print(minCoursesForJaneAvoidKK_Memoize(9)) # should be 2\n",
    "print(minCoursesForJaneAvoidKK_Memoize(13)) # should be 2\n",
    "print(minCoursesForJaneAvoidKK_Memoize(19)) # should be 4\n",
    "print(minCoursesForJaneAvoidKK_Memoize(34)) # should be 5\n",
    "print(minCoursesForJaneAvoidKK_Memoize(43)) # should be 5\n",
    "print(minCoursesForJaneAvoidKK_Memoize(55)) # should be 6\n",
    "print(minCoursesForJaneAvoidKK_Memoize(69)) # should be 8\n",
    "print(minCoursesForJaneAvoidKK_Memoize(812)) # should be 83"
   ]
  },
  {
   "cell_type": "markdown",
   "metadata": {},
   "source": [
    "## 2(C) Recover the solution in terms of number of jumps for each course."
   ]
  },
  {
   "cell_type": "code",
   "execution_count": 9,
   "metadata": {},
   "outputs": [],
   "source": [
    "def minCoursesForJaneAvoidKK_Solution(n):\n",
    "    # Your code here\n",
    "    \n",
    "    #define T[i] as steps needed from level i to level n\n",
    "    T = [0 for x in range(n+1)]\n",
    "    T_list = [0 for x in range(n+1)]\n",
    "    \n",
    "    for i in range(n-1,0,-1):\n",
    "        if i%7==2:\n",
    "            T[i] = inf\n",
    "            T_list[i] = inf\n",
    "            continue\n",
    "            \n",
    "        # when only needs 1 step to n   \n",
    "        if 0< n-i <4:\n",
    "            T[i] = T[i+1]+1\n",
    "            T_list[i] = 1 \n",
    "        elif n-i==4:\n",
    "            T[i] = T[i+4]+1\n",
    "            T_list[i] = 4 \n",
    "        elif n-i==5:\n",
    "            T[i] = T[i+5]+1\n",
    "            T_list[i] = 5\n",
    "        elif n-i==11: \n",
    "            T[i] = T[i+11]+1\n",
    "            T_list[i] = 11\n",
    "            \n",
    "        elif 5 < n-i < 11:\n",
    "            T[i] = min(1+T[i+1],1+T[i+4],1+T[i+5])\n",
    "            if(T[i] == T[i+1]+1):\n",
    "                T_list[i]=1\n",
    "            elif(T[i] == T[i+4]+1):\n",
    "                T_list[i]=4\n",
    "            elif(T[i] == T[i+5]+1):\n",
    "                T_list[i]=5\n",
    "                \n",
    "        else:\n",
    "            T[i] = min(1+T[i+1],1+T[i+4],1+T[i+5],1+T[i+11])\n",
    "            if(T[i] == T[i+1]+1):\n",
    "                T_list[i]=1\n",
    "            elif(T[i] == T[i+4]+1):\n",
    "                T_list[i]=4\n",
    "            elif(T[i] == T[i+5]+1):\n",
    "                T_list[i]=5\n",
    "            elif(T[i] == T[i+11]+1):\n",
    "                T_list[i]=11\n",
    "                \n",
    "    result = []\n",
    "    j =1\n",
    "    # skip the meaningless jumps\n",
    "    while j < n:\n",
    "        result.append(T_list[j])\n",
    "        j = j+T_list[j]\n",
    "     \n",
    "    return T[1],result\n"
   ]
  },
  {
   "cell_type": "code",
   "execution_count": 10,
   "metadata": {},
   "outputs": [
    {
     "name": "stdout",
     "output_type": "stream",
     "text": [
      "(2, [4, 4])\n",
      "(2, [11, 1])\n",
      "(4, [4, 5, 4, 5])\n",
      "(5, [5, 1, 11, 11, 5])\n",
      "(5, [4, 5, 11, 11, 11])\n",
      "(6, [5, 11, 11, 11, 11, 5])\n",
      "(8, [11, 1, 11, 11, 11, 11, 11, 1])\n",
      "(83, [5, 11, 11, 11, 11, 5, 11, 11, 11, 11, 5, 11, 11, 11, 11, 5, 11, 11, 11, 11, 5, 11, 11, 11, 11, 5, 11, 11, 11, 11, 5, 11, 11, 11, 11, 5, 11, 11, 11, 11, 5, 11, 11, 11, 11, 5, 11, 11, 11, 11, 5, 11, 11, 11, 11, 5, 11, 11, 11, 11, 5, 11, 11, 11, 11, 5, 11, 11, 11, 11, 5, 11, 11, 11, 11, 5, 11, 11, 11, 11, 5, 11, 11])\n"
     ]
    }
   ],
   "source": [
    "## Test Code: Do not edit\n",
    "print(minCoursesForJaneAvoidKK_Solution(9)) # should be 2, [4, 4]\n",
    "print(minCoursesForJaneAvoidKK_Solution(13)) # should be 2, [11, 1]\n",
    "print(minCoursesForJaneAvoidKK_Solution(19)) # should be 4, [4, 5, 4, 5]\n",
    "print(minCoursesForJaneAvoidKK_Solution(34)) # should be 5, [5, 1, 11, 11, 5]\n",
    "print(minCoursesForJaneAvoidKK_Solution(43)) # should be 5, [4, 5, 11, 11, 11]\n",
    "print(minCoursesForJaneAvoidKK_Solution(55)) # should be 6, [5, 11, 11, 11, 11, 5]\n",
    "print(minCoursesForJaneAvoidKK_Solution(69)) # should be 8, [11, 1, 11, 11, 11, 11, 11, 1]\n",
    "print(minCoursesForJaneAvoidKK_Solution(812)) # should be 83, [5, 11, 11, 11, 11, 5, 11, 11, 11, 11, 5, 11, 11, 11, 11, 5, 11, 11, 11, 11, 5, 11, 11, 11, 11, 5, 11, 11, 11, 11, 5, 11, 11, 11, 11, 5, 11, 11, 11, 11, 5, 11, 11, 11, 11, 5, 11, 11, 11, 11, 5, 11, 11, 11, 11, 5, 11, 11, 11, 11, 5, 11, 11, 11, 11, 5, 11, 11, 11, 11, 5, 11, 11, 11, 11, 5, 11, 11, 11, 11, 5, 11, 11]"
   ]
  },
  {
   "cell_type": "markdown",
   "metadata": {},
   "source": [
    "## Question 3: Energize Jane with a budget.\n",
    "\n",
    "Unfortunately, life was not as simple as it seemed in problem 2. Besides dealing with Kilokahn, taking a course with a level jump consumes\n",
    "a lot of Jane's energy, and she has an energy $E_0$ to begin with. Each time Jane jumps levels, she loses energy as follows:\n",
    "\n",
    "\n",
    "| Jump   | Energy Consumed |\n",
    "|--------|-----------------|\n",
    "|  1     |       1         |\n",
    "|  4     |       2         |\n",
    "|  5     |       3         |\n",
    "| 11     |       7         |\n",
    "\n",
    "\n",
    "If at any point her energy level is $ \\leq 0$ (even if she is at the destination), she will lose.\n",
    "\n",
    "Given $n$, and initial energy $E_0$, plan how Jane can reach level $n$ (ninja level, in case you forgot) while\n",
    "avoiding Kilokahn who  lurks when dividing the level by $7$ leaves a remainder of $2$ and keeping her energy levels\n",
    "always strictly positive.\n",
    "\n",
    "\n",
    "### 3(A): Write a Recurrence\n",
    "\n",
    "Write a recurrence `minCoursesWithEnergyBudget(j, E, n)` that given that Jane is currently on level `j` with energy `E` finds the minimal \n",
    "number of courses she needs to take to reach `n`. Do not forget the base cases."
   ]
  },
  {
   "cell_type": "code",
   "execution_count": 11,
   "metadata": {},
   "outputs": [],
   "source": [
    "from math import inf\n",
    "def minCoursesWithEnergyBudget(j, e, n):\n",
    "    # Your code here\n",
    "    # edge cases\n",
    "    if n == j and e > 0:\n",
    "        return 0\n",
    "    \n",
    "    elif n>j and e>0:\n",
    "        if j%7==2:\n",
    "            return inf\n",
    "        \n",
    "        else:\n",
    "            if (n-j==1) or (n-j==4) or (n-j==5) or (n-j==11):\n",
    "                if n-j==1:\n",
    "                    e=e-1           \n",
    "                elif n-j==4:\n",
    "                    e=e-2 \n",
    "                elif n-j==5:\n",
    "                    e=e-3           \n",
    "                elif n-j==11:\n",
    "                    e=e-7\n",
    "                if e>0:\n",
    "                    return 1\n",
    "                else:\n",
    "                    return inf\n",
    "            else:\n",
    "                result = min(1+minCoursesWithEnergyBudget(j+1,e-1,n),1+minCoursesWithEnergyBudget(j+4,e-2,n),1+minCoursesWithEnergyBudget(j+5,e-3,n),1+minCoursesWithEnergyBudget(j+11,e-7,n))             \n",
    "                return result         \n",
    "    \n",
    "    else:\n",
    "        return inf"
   ]
  },
  {
   "cell_type": "code",
   "execution_count": 12,
   "metadata": {},
   "outputs": [
    {
     "name": "stdout",
     "output_type": "stream",
     "text": [
      "2\n",
      "1\n",
      "5\n",
      "7\n",
      "7\n",
      "7\n",
      "11\n",
      "12\n"
     ]
    }
   ],
   "source": [
    "# test code do not edit\n",
    "print(minCoursesWithEnergyBudget(1, 25, 10)) # must be 2\n",
    "print(minCoursesWithEnergyBudget(1, 25, 6)) # must be 1\n",
    "print(minCoursesWithEnergyBudget(1, 25, 30)) # must be 5\n",
    "print(minCoursesWithEnergyBudget(1, 16, 30)) # must be 7\n",
    "print(minCoursesWithEnergyBudget(1, 18, 31)) # must be 7\n",
    "print(minCoursesWithEnergyBudget(1, 22, 38)) # must be 7\n",
    "print(minCoursesWithEnergyBudget(1, 32, 55)) # must be 11\n",
    "print(minCoursesWithEnergyBudget(1, 35, 60)) # must be 12"
   ]
  },
  {
   "cell_type": "markdown",
   "metadata": {},
   "source": [
    "## 3(B): Memoize the Recurrence\n",
    "\n",
    "Write a memo table to memoize the recurrence. Your memo table must be  of the form $T[j][e]$ for $j$ ranging from $1$ to $n$\n",
    "and $e$ ranging from $0$ to $E$. You will have to handle the base cases carefully."
   ]
  },
  {
   "cell_type": "code",
   "execution_count": 13,
   "metadata": {},
   "outputs": [],
   "source": [
    "def minCoursesWithEnergyBudget_Memoize(E, n): # j is assumed 1 and omitted as an argument.\n",
    "    # Your code here\n",
    "    \n",
    "    #define T[i][e] as steps needed from level i to level n with energe e \n",
    "    T = [[inf for e in range(E+1)] for i in range(n+1)]\n",
    "    T[n]=[0 for i in range(E+1)]\n",
    "        \n",
    "    for i in range(n-1,0,-1):\n",
    "        for e in range(0, E+1):\n",
    "            if e == 0:  # when E=0, she will lose\n",
    "                continue\n",
    "            if i%7==2:\n",
    "                break\n",
    "                \n",
    "        # when only needs 1 step to n\n",
    "            if 0< n-i < 4 and e-1 > 0:\n",
    "                T[i][e]= T[i+1][e-1]+1 \n",
    "            elif n-i == 4 and e-2 > 0:\n",
    "                T[i][e]= T[i+4][e-2]+1\n",
    "            elif n-i == 5 and e-3 > 0:\n",
    "                T[i][e] = T[i+5][e-3]+1\n",
    "            elif n-i == 11 and e-7 > 0:\n",
    "                T[i][e] = T[i+11][e-7]+1\n",
    "            \n",
    "            elif 5 < n-i < 11 and e > 3:\n",
    "                T[i][e]=min(1+T[i+1][e-1],1+T[i+4][e-2],1+T[i+5][e-3])\n",
    "            elif 5 < n-i < 11 and e == 3:\n",
    "                T[i][e]=min(1+T[i+1][e-1],1+T[i+4][e-2])\n",
    "            elif 5 < n-i < 11 and e == 2:\n",
    "                T[i][e]=1+T[i+1][e-1]\n",
    "                \n",
    "            elif n-i > 11 and e > 7:\n",
    "                T[i][e]=min(1+T[i+1][e-1],1+T[i+4][e-2],1+T[i+5][e-3],1+T[i+11][e-7])\n",
    "            elif n-i > 11 and 3 < e <= 7:\n",
    "                T[i][e]=min(1+T[i+1][e-1],1+T[i+4][e-2],1+T[i+5][e-3])\n",
    "            elif n-i > 11 and e == 3:\n",
    "                T[i][e]=min(1+T[i+1][e-1],1+T[i+4][e-2])\n",
    "            elif n-i > 11 and e == 2:\n",
    "                T[i][e]=1+T[i+1][e-1]\n",
    "                \n",
    "    return T[1][E]"
   ]
  },
  {
   "cell_type": "code",
   "execution_count": 14,
   "metadata": {},
   "outputs": [
    {
     "name": "stdout",
     "output_type": "stream",
     "text": [
      "2\n",
      "1\n",
      "5\n",
      "7\n",
      "7\n",
      "7\n",
      "11\n",
      "12\n"
     ]
    }
   ],
   "source": [
    "# test code do not edit\n",
    "print(minCoursesWithEnergyBudget_Memoize(25, 10)) # must be 2\n",
    "print(minCoursesWithEnergyBudget_Memoize(25, 6)) # must be 1\n",
    "print(minCoursesWithEnergyBudget_Memoize(25, 30)) # must be 5\n",
    "print(minCoursesWithEnergyBudget_Memoize(16, 30)) # must be 7\n",
    "print(minCoursesWithEnergyBudget_Memoize(18, 31)) # must be 7\n",
    "print(minCoursesWithEnergyBudget_Memoize(22, 38)) # must be 7\n",
    "print(minCoursesWithEnergyBudget_Memoize(32, 55)) # must be 11\n",
    "print(minCoursesWithEnergyBudget_Memoize(35, 60)) # must be 12"
   ]
  },
  {
   "cell_type": "markdown",
   "metadata": {},
   "source": [
    "## 3(C): Recover the Solution\n",
    "\n",
    "Now write code that will also return the minimum number of courses along with the list of jumps that will achieve this minimum number"
   ]
  },
  {
   "cell_type": "code",
   "execution_count": 25,
   "metadata": {},
   "outputs": [],
   "source": [
    "def minCoursesWithEnergyBudget_Solution(E, n): # j is assumed 1 and omitted as an argument.\n",
    "    #define T[i] as steps needed from level i to level n with energe e\n",
    "    T = [[inf for e in range(E+1)] for i in range(n+1)]\n",
    "    T[n]=[0 for i in range(E+1)]\n",
    "    \n",
    "    T_list = [[inf for e in range(E+1)] for i in range(n+1)]\n",
    "    \n",
    "    for i in range(n-1,0,-1):\n",
    "        for e in range(0, E+1):\n",
    "            if e == 0:  # when E=0, she will lose\n",
    "                continue\n",
    "            if i%7==2:\n",
    "                break\n",
    "                \n",
    "        # when only needs 1 step to n\n",
    "            if 0< n-i < 4 and e-1 > 0:\n",
    "                T[i][e]= T[i+1][e-1]+1\n",
    "                T_list[i][e]=1\n",
    "            elif n-i == 4 and e-2 > 0:\n",
    "                T[i][e]= T[i+4][e-2]+1\n",
    "                T_list[i][e]=4\n",
    "            elif n-i == 5 and e-3 > 0:\n",
    "                T[i][e] = T[i+5][e-3]+1\n",
    "                T_list[i][e]=5\n",
    "            elif n-i == 11 and e-7 > 0:\n",
    "                T[i][e] = T[i+11][e-7]+1\n",
    "                T_list[i][e]=11\n",
    "            \n",
    "            elif 5 < n-i < 11 and e > 3:\n",
    "                T[i][e]=min(1+T[i+1][e-1],1+T[i+4][e-2],1+T[i+5][e-3])\n",
    "                if T[i][e]==T[i+1][e-1]+1:\n",
    "                    T_list[i][e]=1\n",
    "                elif T[i][e]==T[i+4][e-2]+1:\n",
    "                    T_list[i][e]=4\n",
    "                elif T[i][e]==T[i+5][e-3]+1:\n",
    "                    T_list[i][e]=5\n",
    "            elif 5 < n-i < 11 and e == 3:\n",
    "                T[i][e]=min(1+T[i+1][e-1],1+T[i+4][e-2])\n",
    "                if T[i][e]==T[i+1][e-1]+1:\n",
    "                    T_list[i][e]=1\n",
    "                elif T[i][e]==T[i+4][e-2]+1:\n",
    "                    T_list[i][e]=4\n",
    "            elif 5 < n-i < 11 and e == 2:\n",
    "                T[i][e]=1+T[i+1][e-1]\n",
    "                T_list[i][e]=1\n",
    "                \n",
    "            elif n-i > 11 and e > 7:\n",
    "                T[i][e]=min(1+T[i+1][e-1],1+T[i+4][e-2],1+T[i+5][e-3],1+T[i+11][e-7])\n",
    "                if T[i][e]==T[i+1][e-1]+1:\n",
    "                    T_list[i][e]=1\n",
    "                elif T[i][e]==T[i+4][e-2]+1:\n",
    "                    T_list[i][e]=4\n",
    "                elif T[i][e]==T[i+5][e-3]+1:\n",
    "                    T_list[i][e]=5\n",
    "                elif T[i][e]==T[i+11][e-1]+1:\n",
    "                    T_list[i][e]=11\n",
    "            elif n-i > 11 and 3 < e <= 7:\n",
    "                T[i][e]=min(1+T[i+1][e-1],1+T[i+4][e-2],1+T[i+5][e-3])\n",
    "                if T[i][e]==T[i+1][e-1]+1:\n",
    "                    T_list[i][e]=1\n",
    "                elif T[i][e]==T[i+4][e-2]+1:\n",
    "                    T_list[i][e]=4\n",
    "                elif T[i][e]==T[i+5][e-3]+1:\n",
    "                    T_list[i][e]=5\n",
    "            elif n-i > 11 and e == 3:\n",
    "                T[i][e]=min(1+T[i+1][e-1],1+T[i+4][e-2])\n",
    "                if T[i][e]==T[i+1][e-1]+1:\n",
    "                    T_list[i][e]=1\n",
    "                elif T[i][e]==T[i+4][e-2]+1:\n",
    "                    T_list[i][e]=4\n",
    "            elif n-i > 11 and e == 2:\n",
    "                T[i][e]=1+T[i+1][e-1]\n",
    "                T_list[i][e]=1\n",
    "                \n",
    "    result = []\n",
    "    j =1\n",
    "    e =E\n",
    "    \n",
    "    # skip the meaningless jumps\n",
    "    while j < n:\n",
    "        result.append(T_list[j][e])\n",
    "        temp_e = e\n",
    "        if T_list[j][e]==1:\n",
    "            e-=1\n",
    "        elif T_list[j][e]==4:\n",
    "            e-=2\n",
    "        elif T_list[j][e]==5:\n",
    "            e-=3\n",
    "        elif T_list[j][e]==11:\n",
    "            e-=7\n",
    "        j =j+T_list[j][temp_e]\n",
    "     \n",
    "    return T[1][E],result"
   ]
  },
  {
   "cell_type": "code",
   "execution_count": 26,
   "metadata": {},
   "outputs": [
    {
     "name": "stdout",
     "output_type": "stream",
     "text": [
      "(2, [4, 5])\n",
      "(1, [5])\n",
      "(5, [4, 5, 4, 5, 11])\n",
      "(7, [4, 5, 4, 4, 4, 4, 4])\n",
      "(7, [4, 5, 4, 4, 4, 4, 5])\n",
      "(7, [4, 5, 4, 4, 4, 5, 11])\n",
      "(11, [4, 5, 4, 4, 4, 4, 5, 4, 4, 11, 5])\n",
      "(12, [4, 5, 4, 4, 4, 4, 5, 4, 4, 11, 5, 5])\n"
     ]
    }
   ],
   "source": [
    "# test code do not edit\n",
    "print(minCoursesWithEnergyBudget_Solution(25, 10)) # must be 2, [4,5]\n",
    "print(minCoursesWithEnergyBudget_Solution(25, 6)) # must be 1, [5]\n",
    "print(minCoursesWithEnergyBudget_Solution(25, 30)) # must be 5, [4, 5, 4, 5, 11]\n",
    "print(minCoursesWithEnergyBudget_Solution(16, 30)) # must be 7, [4, 5, 4, 4, 4, 4, 4]\n",
    "print(minCoursesWithEnergyBudget_Solution(18, 31)) # must be 7, [4, 5, 4, 4, 4, 4, 5]\n",
    "print(minCoursesWithEnergyBudget_Solution(22, 38)) # must be 7,  [4, 5, 4, 4, 4, 5, 11]\n",
    "print(minCoursesWithEnergyBudget_Solution(32, 55)) # must be 11, [4, 5, 4, 4, 4, 4, 5, 4, 4, 11, 5]\n",
    "print(minCoursesWithEnergyBudget_Solution(35, 60)) # must be 12, [4, 5, 4, 4, 4, 4, 5, 4, 4, 11, 5, 5]"
   ]
  },
  {
   "cell_type": "markdown",
   "metadata": {},
   "source": [
    "## Question 4: Subset Sum Problem\n",
    "\n",
    "> We are given a set of whole numbers $S:\\ \\{ n_1, \\ldots, n_k \\}$ and a number $N$.\n",
    "> Our goal is to choose a subset of numbers $T:\\ \\{ n_{i_1}, \\ldots, n_{i_j} \\} \\subseteq S$ such that\n",
    "\n",
    ">   (a) $\\sum_{l=1}^j n_{i_l}  \\leq N$, the sum of chosen numbers is less than or equal to $N$, \n",
    "\n",
    ">   (b) The difference $N - \\sum_{l=1}^j n_{i_l} $ is made as small as possible.\n",
    "\n",
    "> For example, $S = \\{ 1, 2, 3, 4, 5, 10 \\}$ and $N = 20$ then by choosing $T = \\{1, 2, 3, 4, 5\\}$, we have  \n",
    "$1 + 2 + 3 + 4 + 5 = 15 \\leq 20$, achieving a difference of $5$. However, if we chose $T = \\{ 2,3,5,10\\}$ \n",
    "we obtain a sum of $2 + 3 + 5 + 10 = 20$ achieving the smallest possible difference of $0$.\n",
    "\n",
    "\n",
    "Therefore the problem is as follows:\n",
    "\n",
    "  * Inputs: list  $S: [n_1, \\ldots, n_k]$ and number $N$.\n",
    "  * Output: a list $T$ of elements from $S$ such that sum of elements of $T$ is  $\\leq N$ and $N - \\sum_{e \\in T} e$ is the smallest possible.\n",
    "\n",
    "The subsequent parts to this problem ask you to derive a dynamic programming solution to this problem.\n",
    "\n",
    "__Note:__ Because $S$ and $T$ are viewed as sets, each element in the set may occur exactly once."
   ]
  },
  {
   "cell_type": "markdown",
   "metadata": {},
   "source": [
    " ## 4(A) Show how the decisions can be staged to obtain optimal substructure (expected size: 5 lines)"
   ]
  },
  {
   "cell_type": "markdown",
   "metadata": {},
   "source": [
    "__Answer:__\n",
    "\n",
    "Denote opt_sub(n,A) as a function where the input 'n' and 'A' represent the current sum of all T's elements and current subset of S with elements have not beed selected into T. The value of this opt_sub(n,A) will be the current difference value. Our goal is to minimize the value of opt_sub(n, A)\n",
    "\n",
    "First, we need to sort the elements in S with ascending order.\n",
    "\n",
    "Then, \n",
    "\n",
    "if S[i] > N:  #it means that the element S[i] cannot be selected into T\n",
    "    \n",
    "    opt_sub(n,A)＝opt_sub(n,A[0:i])    # A[0:i] means the element A[i] has been moved to T, deleted from original A\n",
    "else:\n",
    "\n",
    "    opt_sub(n,A)=min(opt_sub(n-A[i],A[0:i]), opt_sub(n,A[0:i]))\n",
    "    \n",
    "And when S is empty, opt_sub(N,S) = N\n",
    "    \n",
    "    "
   ]
  },
  {
   "cell_type": "markdown",
   "metadata": {},
   "source": [
    "## 4(B): Write a recursive function for calculating the minimum value of the difference possible. "
   ]
  },
  {
   "cell_type": "code",
   "execution_count": 37,
   "metadata": {},
   "outputs": [],
   "source": [
    "def minSubsetDifference_recursive(N, s_list): \n",
    "    # n is the target number \n",
    "    # s_list is a list of elements in the set S\n",
    "    # Your code here\n",
    "    if not s_list:\n",
    "        return N\n",
    "    \n",
    "    s_list = sorted(s_list)\n",
    "    \n",
    "    if s_list[len(s_list)-1] > N:\n",
    "        return minSubsetDifference_recursive(N, s_list[0:len(s_list)-1])\n",
    "    else:\n",
    "        return min(minSubsetDifference_recursive(N-s_list[len(s_list)-1], s_list[0:len(s_list)-1]), minSubsetDifference_recursive(N, s_list[0:len(s_list)-1]))"
   ]
  },
  {
   "cell_type": "code",
   "execution_count": 38,
   "metadata": {},
   "outputs": [
    {
     "name": "stdout",
     "output_type": "stream",
     "text": [
      "0\n",
      "1\n",
      "0\n",
      "0\n",
      "0\n",
      "1\n",
      "0\n",
      "1\n"
     ]
    }
   ],
   "source": [
    "# Code for testing your solution\n",
    "# DO NOT EDIT\n",
    "print(minSubsetDifference_recursive(15, [1, 2, 3, 4, 5, 10])) # Should be zero\n",
    "print(minSubsetDifference_recursive(26, [1, 2, 3, 4, 5, 10])) # should be 1\n",
    "print(minSubsetDifference_recursive(23, [1, 2, 3, 4, 5, 10])) # should be 0\n",
    "print(minSubsetDifference_recursive(18, [1, 2, 3, 4, 5, 10])) # should be 0\n",
    "print(minSubsetDifference_recursive(9, [1, 2, 3, 4, 5, 10])) # should be 0\n",
    "print(minSubsetDifference_recursive(457, [11, 23, 37, 48, 94, 152, 230, 312, 339, 413])) # should be 1\n",
    "print(minSubsetDifference_recursive(512, [11, 23, 37, 48, 94, 152, 230, 312, 339, 413])) # should be 0\n",
    "print(minSubsetDifference_recursive(616, [11, 23, 37, 48, 94, 152, 230, 312, 339, 413])) # should be 1"
   ]
  },
  {
   "cell_type": "markdown",
   "metadata": {},
   "source": [
    "## 4(C): Memoize the recurrence above. \n",
    "\n",
    "To help with your memoization, use a 2D memo table  $T[n][j]$ that represents the value for `minSubsetDifference(n, s_list[0:j])`. "
   ]
  },
  {
   "cell_type": "code",
   "execution_count": 51,
   "metadata": {},
   "outputs": [],
   "source": [
    "def minSubsetDifference_Memoize(N, s_list):\n",
    "    # your code here\n",
    "    T=[[0 for i in range(len(s_list)+1)] for j in range(N+1)]\n",
    "    s_list = sorted(s_list)\n",
    "    \n",
    "    #assume n > 0\n",
    "    for n in range(1,N+1):\n",
    "        for j in range(0,len(s_list)+1):\n",
    "            if j == 0:\n",
    "                T[n][0]=n #empty list\n",
    "                continue\n",
    "            if s_list[j-1]>n:\n",
    "                T[n][j]=T[n][j-1]\n",
    "            else:\n",
    "                T[n][j]=min(T[n][j-1],T[n-s_list[j-1]][j-1])\n",
    "    return T[N][len(s_list)]"
   ]
  },
  {
   "cell_type": "code",
   "execution_count": 52,
   "metadata": {},
   "outputs": [
    {
     "name": "stdout",
     "output_type": "stream",
     "text": [
      "0\n",
      "1\n",
      "0\n",
      "0\n",
      "0\n",
      "1\n",
      "0\n",
      "1\n"
     ]
    }
   ],
   "source": [
    "# Code for testing your solution\n",
    "# DO NOT EDIT\n",
    "print(minSubsetDifference_Memoize(15, [1, 2, 3, 4, 5, 10])) # Should be 0\n",
    "print(minSubsetDifference_Memoize(26, [1, 2, 3, 4, 5, 10])) # should be 1\n",
    "print(minSubsetDifference_Memoize(23, [1, 2, 3, 4, 5, 10])) # should be 0\n",
    "print(minSubsetDifference_Memoize(18, [1, 2, 3, 4, 5, 10])) # should be 0\n",
    "print(minSubsetDifference_Memoize(9, [1, 2, 3, 4, 5, 10])) # should be 0\n",
    "print(minSubsetDifference_Memoize(457, [11, 23, 37, 48, 94, 152, 230, 312, 339, 413])) # should be 1\n",
    "print(minSubsetDifference_Memoize(512, [11, 23, 37, 48, 94, 152, 230, 312, 339, 413])) # should be 0\n",
    "print(minSubsetDifference_Memoize(616, [11, 23, 37, 48, 94, 152, 230, 312, 339, 413])) # should be 1"
   ]
  },
  {
   "cell_type": "markdown",
   "metadata": {},
   "source": [
    "## 4(D): Write code to recover the solution"
   ]
  },
  {
   "cell_type": "code",
   "execution_count": 78,
   "metadata": {},
   "outputs": [],
   "source": [
    "def minSubsetDifference(N, s_list):\n",
    "   # Your code here\n",
    "    T=[[0 for i in range(len(s_list)+1)] for j in range(N+1)]\n",
    "    label=[[0 for i in range(len(s_list))] for j in range(N+1)]\n",
    "    s_list = sorted(s_list)\n",
    "    \n",
    "    #assume n > 0\n",
    "    for n in range(1,N+1):\n",
    "        for j in range(0,len(s_list)+1):\n",
    "            if j == 0:\n",
    "                T[n][0]=n #empty list\n",
    "                continue\n",
    "            if s_list[j-1]>n:\n",
    "                T[n][j]=T[n][j-1]\n",
    "            else:\n",
    "                T[n][j]=min(T[n][j-1],T[n-s_list[j-1]][j-1])\n",
    "                if(T[n][j]==T[n-s_list[j-1]][j-1]):\n",
    "                    label[n][j-1]=1\n",
    "    #find T\n",
    "    result=[]\n",
    "    sum_T=N\n",
    "    j=len(s_list)\n",
    "    \n",
    "    while(sum_T>T[N][len(s_list)]):\n",
    "        if label[sum_T][j-1]==1:\n",
    "            result.append(s_list[j-1])\n",
    "            sum_T-=s_list[j-1]\n",
    "        j-=1\n",
    "    return T[N][len(s_list)],result"
   ]
  },
  {
   "cell_type": "code",
   "execution_count": 79,
   "metadata": {},
   "outputs": [
    {
     "name": "stdout",
     "output_type": "stream",
     "text": [
      "(0, [10, 5])\n",
      "(1, [10, 5, 4, 3, 2, 1])\n",
      "(0, [10, 5, 4, 3, 1])\n",
      "(0, [10, 5, 3])\n",
      "(0, [5, 4])\n",
      "(1, [339, 94, 23])\n",
      "(0, [312, 152, 48])\n",
      "(1, [413, 94, 48, 37, 23])\n"
     ]
    }
   ],
   "source": [
    "# Code for testing your solution\n",
    "# DO NOT EDIT\n",
    "print(minSubsetDifference(15, [1, 2, 3, 4, 5, 10])) # Should be 0, [5, 4, 3, 2, 1]\n",
    "print(minSubsetDifference(26, [1, 2, 3, 4, 5, 10])) # should be 1, [10, 5, 4, 3, 2, 1]\n",
    "print(minSubsetDifference(23, [1, 2, 3, 4, 5, 10])) # should be 0, [10, 5, 4, 3, 1]\n",
    "print(minSubsetDifference(18, [1, 2, 3, 4, 5, 10])) # should be 0, [10, 4, 3, 1]\n",
    "print(minSubsetDifference(9, [1, 2, 3, 4, 5, 10])) # should be 0, [4, 3, 2]\n",
    "print(minSubsetDifference(457, [11, 23, 37, 48, 94, 152, 230, 312, 339, 413])) # should be 1, [339, 94, 23]\n",
    "print(minSubsetDifference(512, [11, 23, 37, 48, 94, 152, 230, 312, 339, 413])) # should be 0, [312, 152, 37, 11]\n",
    "print(minSubsetDifference(616, [11, 23, 37, 48, 94, 152, 230, 312, 339, 413])) # should be 1, [413, 94, 48, 37, 23]"
   ]
  },
  {
   "cell_type": "markdown",
   "metadata": {},
   "source": [
    "## 4 (E): Greedy Solution\n",
    "\n",
    "Suppose we use the following greedy solution to solve the problem.\n",
    "  * $T = \\emptyset$\n",
    "  * While ( $ N \\geq 0 $) \n",
    "    * Select the largest element $e$ for $S$ that is smaller than $N$\n",
    "    * Remove $e$ from $S$\n",
    "    * Add $e$ to $T$\n",
    "    * N = N - e\n",
    "  * return (N, T)\n",
    "  \n",
    "Using an example, show that the greedy algorithm does not necessarily produce the optimal solution."
   ]
  },
  {
   "cell_type": "markdown",
   "metadata": {},
   "source": [
    "__Your Answer Here__ (Expected Size: 5 lines)\n",
    "\n",
    "For example, S=S=[3,4,5,8] and N=15, \n",
    "\n",
    "greedy: 2, [8,5]\n",
    "\n",
    "optimal:  0, [8,4,3]"
   ]
  },
  {
   "cell_type": "markdown",
   "metadata": {},
   "source": [
    "## Testing your solutions -- Do not edit code beyond this point"
   ]
  },
  {
   "cell_type": "code",
   "execution_count": null,
   "metadata": {},
   "outputs": [],
   "source": []
  }
 ],
 "metadata": {
  "kernelspec": {
   "display_name": "Python 3",
   "language": "python",
   "name": "python3"
  },
  "language_info": {
   "codemirror_mode": {
    "name": "ipython",
    "version": 3
   },
   "file_extension": ".py",
   "mimetype": "text/x-python",
   "name": "python",
   "nbconvert_exporter": "python",
   "pygments_lexer": "ipython3",
   "version": "3.6.3"
  }
 },
 "nbformat": 4,
 "nbformat_minor": 2
}
